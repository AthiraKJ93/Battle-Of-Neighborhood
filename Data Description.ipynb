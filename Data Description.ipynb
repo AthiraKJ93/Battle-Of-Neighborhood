{
    "cells": [
        {
            "cell_type": "markdown",
            "metadata": {
                "collapsed": true
            },
            "source": "# Battle Of Neighborhoods -- Data Description"
        },
        {
            "cell_type": "markdown",
            "metadata": {},
            "source": "### Data Description"
        },
        {
            "cell_type": "markdown",
            "metadata": {},
            "source": "Data Link: \"https://cocl.us/new_york_dataset\"\nThis data set contains the required informationand we use this data set to explore various neighborhoods in New York."
        },
        {
            "cell_type": "markdown",
            "metadata": {},
            "source": "### Foursquare API Data"
        },
        {
            "cell_type": "markdown",
            "metadata": {},
            "source": "We use Foursquare locational information to gain the information about different venues in different neighborhoods of that specfic borough. Foursquare is a location data provider with information about all venues and events within an area of interest. Such information includes venues names, locations, photos and so on. So the Foursquare location platform will be used as the sole data source since all the stated required information can be obtained through the API."
        },
        {
            "cell_type": "code",
            "execution_count": null,
            "metadata": {},
            "outputs": [],
            "source": ""
        }
    ],
    "metadata": {
        "kernelspec": {
            "display_name": "Python 3.7",
            "language": "python",
            "name": "python3"
        },
        "language_info": {
            "codemirror_mode": {
                "name": "ipython",
                "version": 3
            },
            "file_extension": ".py",
            "mimetype": "text/x-python",
            "name": "python",
            "nbconvert_exporter": "python",
            "pygments_lexer": "ipython3",
            "version": "3.7.9"
        }
    },
    "nbformat": 4,
    "nbformat_minor": 1
}