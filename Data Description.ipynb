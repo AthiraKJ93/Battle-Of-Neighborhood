{
    "cells": [
        {
            "cell_type": "markdown",
            "metadata": {
                "collapsed": true
            },
            "source": "# Battle Of Neighborhoods -- Data Description"
        },
        {
            "cell_type": "markdown",
            "metadata": {},
            "source": "### Data Description"
        },
        {
            "cell_type": "markdown",
            "metadata": {},
            "source": "Data Link: \"https://cocl.us/new_york_dataset\"\nThis data set contains the required informationand we use this data set to explore various neighborhoods in New York."
        },
        {
            "cell_type": "markdown",
            "metadata": {},
            "source": "### Foursquare API Data"
        },
        {
            "cell_type": "markdown",
            "metadata": {},
            "source": "We use Foursquare locational information to gain the information about different venues in different neighborhoods of that specfic borough. Foursquare is a location data provider with information about all venues and events within an area of interest. Such information includes venues names, locations, photos and so on. So the Foursquare location platform will be used as the sole data source since all the stated required information can be obtained through the API."
        },
        {
            "cell_type": "markdown",
            "metadata": {},
            "source": "After finding the list of neighborhoods, we then connect to the Foursquare API to gather information about venues inside each and every neighborhood. For each neighborhood, we have chosen the radius to be 100 meter."
        },
        {
            "cell_type": "markdown",
            "metadata": {},
            "source": "The data retrieved from Foursquare contained information of venues within a specified distance of the longitude and latitude of the postcodes. The information obtained per venue as follows:"
        },
        {
            "cell_type": "markdown",
            "metadata": {},
            "source": "1. Neighborhood\n2. Neighborhood Latitude\n3. Neighborhood Longitude\n4. Venue\n5. Name of the venue e.g. the name of a store or restaurant\n6. Venue Latitude\n7. Venue Longitude\n8. Venue Category"
        },
        {
            "cell_type": "markdown",
            "metadata": {},
            "source": "### Work Flow:"
        },
        {
            "cell_type": "markdown",
            "metadata": {},
            "source": "\n\n\nUsing credentials of Foursquare API features of near-by places of the neighborhoods would be mined. Due to http request limitations the number of places per neighborhood parameter would reasonably be set to 100 and the radius parameter would be set to 500.\n\n"
        },
        {
            "cell_type": "markdown",
            "metadata": {},
            "source": "### Clustering Approach"
        },
        {
            "cell_type": "markdown",
            "metadata": {},
            "source": "To compare the similarities of two cities, we decided to explore neighborhoods, segment them, and group them into clusters to find similar neighborhoods in a big city like New York and Toronto. To be able to do that, we need to cluster data which is a form of unsupervised machine learning: k-means clustering algorithm"
        },
        {
            "cell_type": "markdown",
            "metadata": {},
            "source": "### Libraries Which are Used to Develope the Project:\n\nPandas: For creating and manipulating dataframes.\n\nFolium: Python visualization library would be used to visualize the neighborhoods cluster distribution of using interactive leaflet map.\n\nScikit Learn: For importing k-means clustering.\n\nJSON: Library to handle JSON files.\n\nXML: To separate data from presentation and XML stores data in plain text format.\n\nGeocoder: To retrieve Location Data.\n\nBeautiful Soup and Requests: To scrap and library to handle http requests.\n\nMatplotlib: Python Plotting Module."
        },
        {
            "cell_type": "code",
            "execution_count": null,
            "metadata": {},
            "outputs": [],
            "source": ""
        }
    ],
    "metadata": {
        "kernelspec": {
            "display_name": "Python 3.7",
            "language": "python",
            "name": "python3"
        },
        "language_info": {
            "codemirror_mode": {
                "name": "ipython",
                "version": 3
            },
            "file_extension": ".py",
            "mimetype": "text/x-python",
            "name": "python",
            "nbconvert_exporter": "python",
            "pygments_lexer": "ipython3",
            "version": "3.7.9"
        }
    },
    "nbformat": 4,
    "nbformat_minor": 1
}