{
    "cells": [
        {
            "cell_type": "markdown",
            "metadata": {
                "collapsed": true
            },
            "source": " # The Battle Of Neighborhoods"
        },
        {
            "cell_type": "markdown",
            "metadata": {},
            "source": "## Introduction"
        },
        {
            "cell_type": "markdown",
            "metadata": {},
            "source": " New York is the most populous city in the United States. It is the most densly populated major city in the United States. Nearly a quarter of New York residents are immigrants, while almost one-fifth of resudents are native-born U.S citizens with atleast one immigrant parent. Neighbours, bussiness owners,tax payers and workers immigrants are integral part of New York's diverse and thiriving communities and make extensive contributions to all.In 2018, 4.4 million immigrants (foreign-born individuals) comprised 23 percent of the population.New York was home to 2.3 million women, 2 million men, and 206,980 children who were immigrants.The top countries of origin for immigrants were the Dominican Republic (11 percent of immigrants), China (9 percent), Mexico (5 percent), Jamaica (5 percent),and India(4 percent)."
        },
        {
            "cell_type": "markdown",
            "metadata": {},
            "source": "The main purpose of this project is to help peoples to explore the facilities around different cities and find a better place for them to settle according to their wish. As the immigrants needs a lot of information about the cities, avilability of reasources such as super market, Department store, Restaurants, Gym and so on. Everybody have their own taste. Everybody have different needs. So the main aim of this project is to give a brief good data about different cities and the available resources of the city and so on . So one can select proper place for them to settle by looking through this data.It will help people to get awareness of the area and neighborhood before moving to a new place for a better living."
        },
        {
            "cell_type": "markdown",
            "metadata": {},
            "source": "New York City is composed of five boroughs, each of which is a county of the State of New York. The five boroughs\u2014Brooklyn, Queens, Manhattan, the Bronx, and Staten Island\u2014were consolidated into a single city in 1898. Each borough is analysed and given a report of each borough. So one can select the most relevant borough for him."
        },
        {
            "cell_type": "markdown",
            "metadata": {},
            "source": "## Clustering Approach"
        },
        {
            "cell_type": "markdown",
            "metadata": {},
            "source": "To compare the similarities of the cities and we will explore neighborhoods, segment them and group them into clusters to find similar neighborhood. K-means clustering is used. So that it will be easier to segment the cities. "
        },
        {
            "cell_type": "code",
            "execution_count": null,
            "metadata": {},
            "outputs": [],
            "source": ""
        }
    ],
    "metadata": {
        "kernelspec": {
            "display_name": "Python 3.7",
            "language": "python",
            "name": "python3"
        },
        "language_info": {
            "codemirror_mode": {
                "name": "ipython",
                "version": 3
            },
            "file_extension": ".py",
            "mimetype": "text/x-python",
            "name": "python",
            "nbconvert_exporter": "python",
            "pygments_lexer": "ipython3",
            "version": "3.7.9"
        }
    },
    "nbformat": 4,
    "nbformat_minor": 1
}